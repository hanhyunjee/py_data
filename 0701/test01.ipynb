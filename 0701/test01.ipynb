{
 "cells": [
  {
   "cell_type": "code",
   "execution_count": 1,
   "id": "8f0ca758",
   "metadata": {},
   "outputs": [
    {
     "name": "stdout",
     "output_type": "stream",
     "text": [
      "원리금 합계= 1628.894626777442\n"
     ]
    }
   ],
   "source": [
    "# 원리금 합계 구하기\n",
    "\n",
    "a = 1000                # 원금\n",
    "r = 0.05                # 이자율\n",
    "n = 10                  # 기간\n",
    "result = a * (1+r) **n # 원리금 합계\n",
    "\n",
    "print (\"원리금 합계=\",result)"
   ]
  },
  {
   "cell_type": "code",
   "execution_count": 3,
   "id": "d8b5045c",
   "metadata": {},
   "outputs": [
    {
     "name": "stdout",
     "output_type": "stream",
     "text": [
      "925.88\n"
     ]
    }
   ],
   "source": [
    "# 소수점 자리\n",
    "\n",
    "price = 12345\n",
    "tax = price * 0.075\n",
    "\n",
    "tax = round(tax,2)\n",
    "print(tax)"
   ]
  },
  {
   "cell_type": "code",
   "execution_count": 5,
   "id": "75aa47dc",
   "metadata": {},
   "outputs": [
    {
     "name": "stdout",
     "output_type": "stream",
     "text": [
      "hello\n",
      "Hi\n"
     ]
    }
   ],
   "source": [
    "# 문자열\n",
    "\n",
    "msg = \"hello\"\n",
    "print(msg)\n",
    "msg = 'Hi'\n",
    "print(msg)"
   ]
  },
  {
   "cell_type": "code",
   "execution_count": 6,
   "id": "ed2e1dcb",
   "metadata": {},
   "outputs": [
    {
     "name": "stdout",
     "output_type": "stream",
     "text": [
      "\n",
      "안녕하세요\n",
      "지금\n",
      "파이썬을\n",
      "배우고 있습니다\n",
      "\n"
     ]
    }
   ],
   "source": [
    "# 세 따옴표 문자열 - 여러줄 표시 가능\n",
    "\n",
    "a = \"\"\"\n",
    "안녕하세요\n",
    "지금\n",
    "파이썬을\n",
    "배우고 있습니다\n",
    "\"\"\"\n",
    "\n",
    "print(a)"
   ]
  },
  {
   "cell_type": "code",
   "execution_count": 9,
   "id": "f6e9b6fa",
   "metadata": {},
   "outputs": [
    {
     "name": "stdout",
     "output_type": "stream",
     "text": [
      "\n",
      "1. 시작\n",
      "2. 수정\n",
      "3. 삭제\n",
      "4. 종료\n",
      "\n",
      "===> 번호를 선택하세요 : \n",
      "\n"
     ]
    }
   ],
   "source": [
    "menu=\"\"\"\n",
    "1. 시작\n",
    "2. 수정\n",
    "3. 삭제\n",
    "4. 종료\n",
    "\n",
    "===> 번호를 선택하세요 : \n",
    "\"\"\"\n",
    "\n",
    "print(menu)"
   ]
  },
  {
   "cell_type": "code",
   "execution_count": 11,
   "id": "3c219400",
   "metadata": {},
   "outputs": [
    {
     "data": {
      "text/plain": [
       "'Hello World!'"
      ]
     },
     "execution_count": 11,
     "metadata": {},
     "output_type": "execute_result"
    }
   ],
   "source": [
    "\"Hello\"+\" World!\""
   ]
  },
  {
   "cell_type": "code",
   "execution_count": 12,
   "id": "f1863bfe",
   "metadata": {},
   "outputs": [
    {
     "name": "stdout",
     "output_type": "stream",
     "text": [
      "------------------------------\n"
     ]
    }
   ],
   "source": [
    "Lines = \"-\"*30\n",
    "print(Lines)"
   ]
  },
  {
   "cell_type": "code",
   "execution_count": 14,
   "id": "5e24fe8a",
   "metadata": {},
   "outputs": [
    {
     "name": "stdout",
     "output_type": "stream",
     "text": [
      "Terminator 3\n"
     ]
    }
   ],
   "source": [
    "# 숫자를 문자로 변환\n",
    "\n",
    "movie = \"Terminator \" + str(3)\n",
    "print(movie)"
   ]
  },
  {
   "cell_type": "code",
   "execution_count": 16,
   "id": "9e491ac8",
   "metadata": {},
   "outputs": [
    {
     "name": "stdout",
     "output_type": "stream",
     "text": [
      "말 한마디로\n",
      " 천냥빚을\n",
      " 갚는다\n"
     ]
    }
   ],
   "source": [
    "print(\"말 한마디로\\n 천냥빚을\\n 갚는다\")"
   ]
  },
  {
   "cell_type": "code",
   "execution_count": 23,
   "id": "80dbfb9c",
   "metadata": {},
   "outputs": [
    {
     "name": "stdout",
     "output_type": "stream",
     "text": [
      "K과P과L\n"
     ]
    }
   ],
   "source": [
    "a = \"Kim\"\n",
    "b = \"Park\"\n",
    "c = \"Lee\"\n",
    "first = a[0]+\"과\"+b[0]+\"과\"+c[0]\n",
    "print(first)"
   ]
  },
  {
   "cell_type": "code",
   "execution_count": 25,
   "id": "8269f0dd",
   "metadata": {},
   "outputs": [
    {
     "name": "stdout",
     "output_type": "stream",
     "text": [
      "harry parter\n",
      "HARRY PARTER\n"
     ]
    }
   ],
   "source": [
    "# 파이썬은 모든 변수를 오브젝트로 선언\n",
    "\n",
    "name = \"Harry Parter\"\n",
    "lower_name = name.lower()\n",
    "print(lower_name)\n",
    "upper_name = name.upper()\n",
    "print(upper_name)"
   ]
  },
  {
   "cell_type": "code",
   "execution_count": null,
   "id": "7d9e0040",
   "metadata": {},
   "outputs": [],
   "source": [
    "a = 5\n",
    "a."
   ]
  }
 ],
 "metadata": {
  "kernelspec": {
   "display_name": "Python 3 (ipykernel)",
   "language": "python",
   "name": "python3"
  },
  "language_info": {
   "codemirror_mode": {
    "name": "ipython",
    "version": 3
   },
   "file_extension": ".py",
   "mimetype": "text/x-python",
   "name": "python",
   "nbconvert_exporter": "python",
   "pygments_lexer": "ipython3",
   "version": "3.9.12"
  }
 },
 "nbformat": 4,
 "nbformat_minor": 5
}
