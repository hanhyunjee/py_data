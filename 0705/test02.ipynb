{
 "cells": [
  {
   "cell_type": "code",
   "execution_count": 1,
   "id": "8f0ca758",
   "metadata": {},
   "outputs": [
    {
     "name": "stdout",
     "output_type": "stream",
     "text": [
      "반지름이 3인 원의 면적 = 28.26\n"
     ]
    }
   ],
   "source": [
    "# 함수 정의\n",
    "\n",
    "def get_area(radius):\n",
    "    area = 3.14*radius **2\n",
    "    return area\n",
    "\n",
    "result = get_area(3)\n",
    "print(\"반지름이 3인 원의 면적 =\", result)"
   ]
  },
  {
   "cell_type": "code",
   "execution_count": 2,
   "id": "6166ac58",
   "metadata": {},
   "outputs": [
    {
     "name": "stdout",
     "output_type": "stream",
     "text": [
      "x= 2\n",
      "y= 3\n"
     ]
    }
   ],
   "source": [
    "# 리턴값이 두개인 사용자 정의 함수\n",
    "\n",
    "def get_input() :\n",
    "    return 2,3\n",
    "x, y = get_input()\n",
    "print(\"x=\",x)\n",
    "print(\"y=\",y)\n",
    "    "
   ]
  },
  {
   "cell_type": "code",
   "execution_count": 3,
   "id": "3ce0bbe6",
   "metadata": {},
   "outputs": [
    {
     "name": "stdout",
     "output_type": "stream",
     "text": [
      "안녕 철수.좋은아침!\n"
     ]
    }
   ],
   "source": [
    "# defalut 인수1\n",
    "\n",
    "def greet(name, msg):\n",
    "    print(\"안녕\",name+'.'+msg)\n",
    "    \n",
    "greet(\"철수\",\"좋은아침!\")"
   ]
  },
  {
   "cell_type": "code",
   "execution_count": 4,
   "id": "48ce39b0",
   "metadata": {},
   "outputs": [
    {
     "name": "stdout",
     "output_type": "stream",
     "text": [
      "안녕 영희. 별일없죠?\n"
     ]
    }
   ],
   "source": [
    "# defalut 인수2\n",
    "\n",
    "def greet(name, msg=\"별일없죠?\"):\n",
    "    print(\"안녕\",name+'. '+msg)\n",
    "    \n",
    "greet(\"영희\")"
   ]
  },
  {
   "cell_type": "code",
   "execution_count": 5,
   "id": "7c3f7e00",
   "metadata": {},
   "outputs": [
    {
     "name": "stdout",
     "output_type": "stream",
     "text": [
      "안녕 영희. 별일없죠?\n",
      "안녕 철수. 잘지내\n"
     ]
    }
   ],
   "source": [
    "# defalut 인수3\n",
    "\n",
    "def greet(name, msg=\"별일없죠?\"):\n",
    "    print(\"안녕\",name+'. '+msg)\n",
    "    \n",
    "greet(\"영희\")\n",
    "greet(\"철수\",\"잘지내\")"
   ]
  }
 ],
 "metadata": {
  "kernelspec": {
   "display_name": "Python 3 (ipykernel)",
   "language": "python",
   "name": "python3"
  },
  "language_info": {
   "codemirror_mode": {
    "name": "ipython",
    "version": 3
   },
   "file_extension": ".py",
   "mimetype": "text/x-python",
   "name": "python",
   "nbconvert_exporter": "python",
   "pygments_lexer": "ipython3",
   "version": "3.9.12"
  }
 },
 "nbformat": 4,
 "nbformat_minor": 5
}
