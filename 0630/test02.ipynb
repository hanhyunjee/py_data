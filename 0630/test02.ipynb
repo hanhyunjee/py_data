{
 "cells": [
  {
   "cell_type": "markdown",
   "id": "4f2de10a",
   "metadata": {},
   "source": [
    "### 발표자 : 깐쇼"
   ]
  },
  {
   "cell_type": "markdown",
   "id": "d9130b25",
   "metadata": {},
   "source": [
    "# 제목 : 주피터 노트북"
   ]
  },
  {
   "cell_type": "markdown",
   "id": "209a7601",
   "metadata": {},
   "source": [
    "$$Cov(x,y) = \\begin{bmatrix}\\sigma_x^2 & Cov(x,y) \\\\Cov(x,y) & \\sigma_y^2 \\end{bmatrix}$$"
   ]
  }
 ],
 "metadata": {
  "kernelspec": {
   "display_name": "Python 3 (ipykernel)",
   "language": "python",
   "name": "python3"
  },
  "language_info": {
   "codemirror_mode": {
    "name": "ipython",
    "version": 3
   },
   "file_extension": ".py",
   "mimetype": "text/x-python",
   "name": "python",
   "nbconvert_exporter": "python",
   "pygments_lexer": "ipython3",
   "version": "3.9.12"
  }
 },
 "nbformat": 4,
 "nbformat_minor": 5
}
